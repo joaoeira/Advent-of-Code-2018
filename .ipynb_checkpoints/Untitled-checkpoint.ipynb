{
 "cells": [
  {
   "cell_type": "code",
   "execution_count": 20,
   "metadata": {},
   "outputs": [],
   "source": [
    "matrix = [[0]*10]*10"
   ]
  },
  {
   "cell_type": "code",
   "execution_count": 21,
   "metadata": {},
   "outputs": [
    {
     "name": "stdout",
     "output_type": "stream",
     "text": [
      "[[0, 0, 0, 0, 0, 0, 0, 0, 0, 0], [0, 0, 0, 0, 0, 0, 0, 0, 0, 0], [0, 0, 0, 0, 0, 0, 0, 0, 0, 0], [0, 0, 0, 0, 0, 0, 0, 0, 0, 0], [0, 0, 0, 0, 0, 0, 0, 0, 0, 0], [0, 0, 0, 0, 0, 0, 0, 0, 0, 0], [0, 0, 0, 0, 0, 0, 0, 0, 0, 0], [0, 0, 0, 0, 0, 0, 0, 0, 0, 0], [0, 0, 0, 0, 0, 0, 0, 0, 0, 0], [0, 0, 0, 0, 0, 0, 0, 0, 0, 0]]\n"
     ]
    }
   ],
   "source": [
    "print(matrix)"
   ]
  },
  {
   "cell_type": "code",
   "execution_count": 22,
   "metadata": {},
   "outputs": [
    {
     "name": "stdout",
     "output_type": "stream",
     "text": [
      "[0, 0, 0, 0, 0, 0, 0, 0, 1, 0]\n",
      "[0, 0, 0, 0, 0, 0, 0, 0, 1, 1]\n",
      "[0, 0, 0, 0, 0, 0, 0, 0, 2, 1]\n",
      "[0, 0, 0, 0, 0, 0, 0, 0, 2, 2]\n",
      "[0, 0, 0, 0, 0, 0, 0, 0, 3, 2]\n",
      "[0, 0, 0, 0, 0, 0, 0, 0, 3, 3]\n"
     ]
    }
   ],
   "source": [
    "for i in range(2,5):\n",
    "    for p in range(8,10):\n",
    "        matrix[i][p] += 1\n",
    "    print(matrix[i])"
   ]
  },
  {
   "cell_type": "code",
   "execution_count": 23,
   "metadata": {},
   "outputs": [
    {
     "data": {
      "text/plain": [
       "[[0, 0, 0, 0, 0, 0, 0, 0, 3, 3],\n",
       " [0, 0, 0, 0, 0, 0, 0, 0, 3, 3],\n",
       " [0, 0, 0, 0, 0, 0, 0, 0, 3, 3],\n",
       " [0, 0, 0, 0, 0, 0, 0, 0, 3, 3],\n",
       " [0, 0, 0, 0, 0, 0, 0, 0, 3, 3],\n",
       " [0, 0, 0, 0, 0, 0, 0, 0, 3, 3],\n",
       " [0, 0, 0, 0, 0, 0, 0, 0, 3, 3],\n",
       " [0, 0, 0, 0, 0, 0, 0, 0, 3, 3],\n",
       " [0, 0, 0, 0, 0, 0, 0, 0, 3, 3],\n",
       " [0, 0, 0, 0, 0, 0, 0, 0, 3, 3]]"
      ]
     },
     "execution_count": 23,
     "metadata": {},
     "output_type": "execute_result"
    }
   ],
   "source": [
    "matrix"
   ]
  }
 ],
 "metadata": {
  "kernelspec": {
   "display_name": "Python 2",
   "language": "python",
   "name": "python2"
  },
  "language_info": {
   "codemirror_mode": {
    "name": "ipython",
    "version": 3
   },
   "file_extension": ".py",
   "mimetype": "text/x-python",
   "name": "python",
   "nbconvert_exporter": "python",
   "pygments_lexer": "ipython3",
   "version": "3.6.5"
  }
 },
 "nbformat": 4,
 "nbformat_minor": 2
}
